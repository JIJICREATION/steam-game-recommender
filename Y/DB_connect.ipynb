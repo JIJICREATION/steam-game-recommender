{
 "cells": [
  {
   "cell_type": "code",
   "execution_count": 5,
   "metadata": {},
   "outputs": [
    {
     "name": "stdout",
     "output_type": "stream",
     "text": [
      "Successfully connected to the database!\n",
      "('information_schema',)\n",
      "('innodb',)\n",
      "('mysql',)\n",
      "('performance_schema',)\n",
      "('steam_lit_project',)\n",
      "('sys',)\n"
     ]
    }
   ],
   "source": [
    "import mariadb\n",
    "import sys\n",
    "\n",
    "# MariaDB 연결 설정\n",
    "try:\n",
    "    conn = mariadb.connect(\n",
    "        host=\"bootcampproject2t1steam.cdi60g8ggh0i.ap-southeast-2.rds.amazonaws.com\",  # RDS 엔드포인트\n",
    "        port=3306,  # 포트 번호\n",
    "        user=\"sangho\",  # 사용자 이름\n",
    "        password=\"password\",  # 비밀번호 (AWS RDS 설정 시 지정한 비밀번호)\n",
    "    )\n",
    "    print(\"Successfully connected to the database!\")\n",
    "\n",
    "    # 커서 생성\n",
    "    cur = conn.cursor()\n",
    "\n",
    "    # SQL 실행 예제: 데이터베이스 목록 조회\n",
    "    cur.execute(\"SHOW DATABASES\")\n",
    "    for db in cur:\n",
    "        print(db)\n",
    "\n",
    "except mariadb.Error as e:\n",
    "    print(f\"Error connecting to MariaDB: {e}\")\n",
    "    sys.exit(1)\n",
    "\n",
    "finally:\n",
    "    # 연결 종료\n",
    "    if conn:\n",
    "        conn.close()\n"
   ]
  },
  {
   "cell_type": "code",
   "execution_count": 9,
   "metadata": {},
   "outputs": [],
   "source": [
    "import numpy as np\n",
    "import pandas as pd"
   ]
  },
  {
   "cell_type": "code",
   "execution_count": 10,
   "metadata": {},
   "outputs": [],
   "source": [
    "df = pd.read_csv('테스트.csv')"
   ]
  },
  {
   "cell_type": "code",
   "execution_count": 15,
   "metadata": {},
   "outputs": [],
   "source": [
    "df.drop(columns=['review_id', 'author_id', 'author_name', 'timestamp', 'voted_up','votes_up','votes_funny','weighted_vote_score','comment_count','steam_purchase','playtime_forever'],inplace=True, errors='ignore')"
   ]
  },
  {
   "cell_type": "code",
   "execution_count": 16,
   "metadata": {},
   "outputs": [
    {
     "data": {
      "text/html": [
       "<div>\n",
       "<style scoped>\n",
       "    .dataframe tbody tr th:only-of-type {\n",
       "        vertical-align: middle;\n",
       "    }\n",
       "\n",
       "    .dataframe tbody tr th {\n",
       "        vertical-align: top;\n",
       "    }\n",
       "\n",
       "    .dataframe thead th {\n",
       "        text-align: right;\n",
       "    }\n",
       "</style>\n",
       "<table border=\"1\" class=\"dataframe\">\n",
       "  <thead>\n",
       "    <tr style=\"text-align: right;\">\n",
       "      <th></th>\n",
       "      <th>review_text</th>\n",
       "      <th>game_title</th>\n",
       "    </tr>\n",
       "  </thead>\n",
       "  <tbody>\n",
       "    <tr>\n",
       "      <th>0</th>\n",
       "      <td>By far my favorite city builder, and much bett...</td>\n",
       "      <td>Cities: Skylines</td>\n",
       "    </tr>\n",
       "    <tr>\n",
       "      <th>1</th>\n",
       "      <td>expectation:\\nbuild the dream city you wanna l...</td>\n",
       "      <td>Cities: Skylines</td>\n",
       "    </tr>\n",
       "    <tr>\n",
       "      <th>2</th>\n",
       "      <td>Its a good city builder game, the downside is ...</td>\n",
       "      <td>Cities: Skylines</td>\n",
       "    </tr>\n",
       "    <tr>\n",
       "      <th>3</th>\n",
       "      <td>It's a great simulator of building a city and ...</td>\n",
       "      <td>Cities: Skylines</td>\n",
       "    </tr>\n",
       "    <tr>\n",
       "      <th>4</th>\n",
       "      <td>I can get sucked into this game for hours, I a...</td>\n",
       "      <td>Cities: Skylines</td>\n",
       "    </tr>\n",
       "    <tr>\n",
       "      <th>...</th>\n",
       "      <td>...</td>\n",
       "      <td>...</td>\n",
       "    </tr>\n",
       "    <tr>\n",
       "      <th>195</th>\n",
       "      <td>Predatory</td>\n",
       "      <td>Cities: Skylines</td>\n",
       "    </tr>\n",
       "    <tr>\n",
       "      <th>196</th>\n",
       "      <td>BAD</td>\n",
       "      <td>Cities: Skylines</td>\n",
       "    </tr>\n",
       "    <tr>\n",
       "      <th>197</th>\n",
       "      <td>test</td>\n",
       "      <td>Cities: Skylines</td>\n",
       "    </tr>\n",
       "    <tr>\n",
       "      <th>198</th>\n",
       "      <td>cuz</td>\n",
       "      <td>Cities: Skylines</td>\n",
       "    </tr>\n",
       "    <tr>\n",
       "      <th>199</th>\n",
       "      <td>p</td>\n",
       "      <td>Cities: Skylines</td>\n",
       "    </tr>\n",
       "  </tbody>\n",
       "</table>\n",
       "<p>200 rows × 2 columns</p>\n",
       "</div>"
      ],
      "text/plain": [
       "                                           review_text        game_title\n",
       "0    By far my favorite city builder, and much bett...  Cities: Skylines\n",
       "1    expectation:\\nbuild the dream city you wanna l...  Cities: Skylines\n",
       "2    Its a good city builder game, the downside is ...  Cities: Skylines\n",
       "3    It's a great simulator of building a city and ...  Cities: Skylines\n",
       "4    I can get sucked into this game for hours, I a...  Cities: Skylines\n",
       "..                                                 ...               ...\n",
       "195                                          Predatory  Cities: Skylines\n",
       "196                                                BAD  Cities: Skylines\n",
       "197                                               test  Cities: Skylines\n",
       "198                                                cuz  Cities: Skylines\n",
       "199                                                  p  Cities: Skylines\n",
       "\n",
       "[200 rows x 2 columns]"
      ]
     },
     "execution_count": 16,
     "metadata": {},
     "output_type": "execute_result"
    }
   ],
   "source": [
    "df"
   ]
  }
 ],
 "metadata": {
  "kernelspec": {
   "display_name": "base",
   "language": "python",
   "name": "python3"
  },
  "language_info": {
   "codemirror_mode": {
    "name": "ipython",
    "version": 3
   },
   "file_extension": ".py",
   "mimetype": "text/x-python",
   "name": "python",
   "nbconvert_exporter": "python",
   "pygments_lexer": "ipython3",
   "version": "3.12.7"
  }
 },
 "nbformat": 4,
 "nbformat_minor": 2
}
