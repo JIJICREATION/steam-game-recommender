{
 "cells": [
  {
   "cell_type": "code",
   "execution_count": null,
   "metadata": {},
   "outputs": [],
   "source": [
    "import mariadb\n",
    "import sys\n",
    "\n",
    "# MariaDB 연결 설정\n",
    "try:\n",
    "    conn = mariadb.connect(\n",
    "        host=\"bootcampproject2t1steam.cdi60g8ggh0i.ap-southeast-2.rds.amazonaws.com\",  # RDS 엔드포인트\n",
    "        port=3306,  # 포트 번호\n",
    "        user=\"minsung\",  # 사용자 이름\n",
    "        password=\"password\",  # 비밀번호 (AWS RDS 설정 시 지정한 비밀번호)\n",
    "    )\n",
    "    print(\"Successfully connected to the database!\")\n",
    "\n",
    "    # 커서 생성\n",
    "    cur = conn.cursor()\n",
    "\n",
    "    # SQL 실행 예제: 데이터베이스 목록 조회\n",
    "    cur.execute(\"SHOW DATABASES\")\n",
    "    for db in cur:\n",
    "        print(db)\n",
    "\n",
    "except mariadb.Error as e:\n",
    "    print(f\"Error connecting to MariaDB: {e}\")\n",
    "    sys.exit(1)\n",
    "\n",
    "finally:\n",
    "    # 연결 종료\n",
    "    if conn:\n",
    "        conn.close()\n"
   ]
  }
 ],
 "metadata": {
  "language_info": {
   "name": "python"
  }
 },
 "nbformat": 4,
 "nbformat_minor": 2
}
